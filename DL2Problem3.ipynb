{
  "nbformat": 4,
  "nbformat_minor": 0,
  "metadata": {
    "colab": {
      "name": "DL2Problem3.ipynb",
      "provenance": []
    },
    "kernelspec": {
      "name": "python3",
      "display_name": "Python 3"
    },
    "accelerator": "GPU"
  },
  "cells": [
    {
      "cell_type": "code",
      "metadata": {
        "id": "z_r5f1zFl1-K",
        "colab_type": "code",
        "colab": {}
      },
      "source": [
        "import torch\n",
        "import torch.nn as nn\n",
        "import torch.nn.functional as F\n",
        "import torch.optim as optim\n",
        "import numpy as np\n",
        "from torchvision import datasets, transforms"
      ],
      "execution_count": 0,
      "outputs": []
    },
    {
      "cell_type": "code",
      "metadata": {
        "id": "gsEsH_Ecl58Y",
        "colab_type": "code",
        "colab": {}
      },
      "source": [
        "class NeuralNet(nn.Module):\n",
        "    def __init__(self):\n",
        "        super(NeuralNet, self).__init__()\n",
        "        self.conv1 = nn.Conv2d(1, 32, 3, 1)\n",
        "        self.conv2 = nn.Conv2d(32, 64, 3, 1)\n",
        "        self.fc = nn.Linear(64 * 12 ** 2, 10)\n",
        "        self.layers = torch.nn.Sequential(\n",
        "            nn.Conv2d(1, 32, 3, 1),\n",
        "            nn.ReLU(),\n",
        "            nn.Conv2d(32, 64, 3, 1),\n",
        "            nn.ReLU(),\n",
        "            nn.MaxPool2d(2),\n",
        "        )\n",
        "\n",
        "    def forward(self, x):\n",
        "        \"\"\"\n",
        "        :param x: torch.Size([bs, 1, 28, 28])\n",
        "        \"\"\"\n",
        "        x = self.layers(x)\n",
        "        x = self.fc(x.view(len(x), -1))\n",
        "        return F.log_softmax(x, dim=1)"
      ],
      "execution_count": 0,
      "outputs": []
    },
    {
      "cell_type": "code",
      "metadata": {
        "id": "05Kt8cJOmA4e",
        "colab_type": "code",
        "colab": {}
      },
      "source": [
        "device = torch.device(\"cuda\" if torch.cuda.is_available() else \"cpu\")\n",
        "batch_size = 256\n",
        "lr = 0.0001\n",
        "epochs = 10\n",
        "torch.cuda.manual_seed(1234)"
      ],
      "execution_count": 0,
      "outputs": []
    },
    {
      "cell_type": "code",
      "metadata": {
        "id": "-iWAymDtmA7J",
        "colab_type": "code",
        "colab": {}
      },
      "source": [
        "transform = transforms.Compose([\n",
        "     transforms.ToTensor(),\n",
        "     transforms.Normalize((0.1307,), (0.3081,))\n",
        "])\n",
        "\n",
        "train_loader = torch.utils.data.DataLoader(\n",
        "    datasets.MNIST('.', train=True, download=True, transform=transform),\n",
        "    batch_size=batch_size, shuffle=True\n",
        ")\n",
        "\n",
        "test_loader = torch.utils.data.DataLoader(\n",
        "    datasets.MNIST('.', train=False, transform=transform),\n",
        "    batch_size=batch_size, shuffle=True\n",
        ")"
      ],
      "execution_count": 0,
      "outputs": []
    },
    {
      "cell_type": "code",
      "metadata": {
        "id": "zsdRDBoOmA95",
        "colab_type": "code",
        "colab": {}
      },
      "source": [
        "model = NeuralNet().to(device)\n",
        "optimizer = optim.Adam(model.parameters(), lr=lr)"
      ],
      "execution_count": 0,
      "outputs": []
    },
    {
      "cell_type": "code",
      "metadata": {
        "id": "62mzOuOrnT8O",
        "colab_type": "code",
        "colab": {}
      },
      "source": [
        "def train(model, device, dataloader, optimizer, epoch):\n",
        "    model.train()\n",
        "    loss_val = 0\n",
        "    for batch in train_loader:\n",
        "        input, target = [e.to(device) for e in batch]\n",
        "        output = model(input)\n",
        "        loss = F.nll_loss(output, target)\n",
        "        loss_val += loss.item() * len(input)\n",
        "        loss.backward()\n",
        "        optimizer.step()\n",
        "        optimizer.zero_grad()\n",
        "\n",
        "    print(f\"Train {epoch} epoch |\"\n",
        "          f\"loss: {loss_val / len(dataloader.dataset):.3f}\")"
      ],
      "execution_count": 0,
      "outputs": []
    },
    {
      "cell_type": "code",
      "metadata": {
        "id": "MrssuZ_-oKC4",
        "colab_type": "code",
        "colab": {}
      },
      "source": [
        "def valid(model, device, dataloader, epoch):\n",
        "    model.eval()\n",
        "    loss_val, accuracy = 0, 0\n",
        "    with torch.no_grad():\n",
        "        for batch in dataloader:\n",
        "            input, target = [e.to(device) for e in batch]\n",
        "            output = model(input)\n",
        "            loss_val += F.nll_loss(output, target, reduction='sum').item()\n",
        "            pred = output.argmax(dim=1, keepdim=True)\n",
        "            accuracy += pred.eq(target.view_as(pred)).sum().item()\n",
        "\n",
        "    print(f\"Test {epoch} epoch |\"\n",
        "          f\"loss: {loss_val / len(dataloader.dataset):.3f} |\"\n",
        "          f\"accuracy: {accuracy / len(dataloader.dataset):.3f}\\n\")"
      ],
      "execution_count": 0,
      "outputs": []
    },
    {
      "cell_type": "code",
      "metadata": {
        "id": "qgDmWy39quKo",
        "colab_type": "code",
        "colab": {
          "base_uri": "https://localhost:8080/",
          "height": 527
        },
        "outputId": "c1441753-7560-4678-b642-9326387556df"
      },
      "source": [
        "for epoch in range(1, epochs + 1):\n",
        "    train(model, device, train_loader, optimizer, epoch)\n",
        "    valid(model, device, test_loader, epoch)"
      ],
      "execution_count": 144,
      "outputs": [
        {
          "output_type": "stream",
          "text": [
            "Train 1 epoch |loss: 0.548\n",
            "Test 1 epoch |loss: 0.235 |accuracy: 0.935\n",
            "\n",
            "Train 2 epoch |loss: 0.198\n",
            "Test 2 epoch |loss: 0.141 |accuracy: 0.959\n",
            "\n",
            "Train 3 epoch |loss: 0.127\n",
            "Test 3 epoch |loss: 0.094 |accuracy: 0.974\n",
            "\n",
            "Train 4 epoch |loss: 0.093\n",
            "Test 4 epoch |loss: 0.075 |accuracy: 0.979\n",
            "\n",
            "Train 5 epoch |loss: 0.075\n",
            "Test 5 epoch |loss: 0.061 |accuracy: 0.982\n",
            "\n",
            "Train 6 epoch |loss: 0.063\n",
            "Test 6 epoch |loss: 0.054 |accuracy: 0.983\n",
            "\n",
            "Train 7 epoch |loss: 0.055\n",
            "Test 7 epoch |loss: 0.050 |accuracy: 0.984\n",
            "\n",
            "Train 8 epoch |loss: 0.050\n",
            "Test 8 epoch |loss: 0.049 |accuracy: 0.984\n",
            "\n",
            "Train 9 epoch |loss: 0.046\n",
            "Test 9 epoch |loss: 0.045 |accuracy: 0.985\n",
            "\n",
            "Train 10 epoch |loss: 0.043\n",
            "Test 10 epoch |loss: 0.044 |accuracy: 0.985\n",
            "\n"
          ],
          "name": "stdout"
        }
      ]
    },
    {
      "cell_type": "code",
      "metadata": {
        "id": "RsJPiXNenUZy",
        "colab_type": "code",
        "colab": {}
      },
      "source": [
        "def attack(image, epsilon, grad):\n",
        "    attacked_image = image + epsilon * grad.sign()\n",
        "    return attacked_image"
      ],
      "execution_count": 0,
      "outputs": []
    },
    {
      "cell_type": "code",
      "metadata": {
        "id": "nyhbpmeUnUcR",
        "colab_type": "code",
        "colab": {}
      },
      "source": [
        "def adversarial_test(model, device, dataloader, epsilon):\n",
        "    accuracy = 0\n",
        "    for batch in test_loader:\n",
        "        input, target = [e.to(device) for e in batch]\n",
        "        input.requires_grad = True\n",
        "        output = model(input)\n",
        "        loss = F.nll_loss(output, target)\n",
        "        loss.backward()\n",
        "        grad = input.grad.data\n",
        "        attacked_data = attack(input, epsilon, input.grad.data)\n",
        "        model.zero_grad()\n",
        "        # re-classify\n",
        "        output = model(attacked_data)\n",
        "        pred = output.argmax(dim=1, keepdim=True)\n",
        "        accuracy += pred.eq(target.view_as(pred)).sum().item()\n",
        "\n",
        "    print(f\"Epsilon: {epsilon:.2f} |\"\n",
        "          f\"Accuracy: {accuracy / len(dataloader.dataset):.3f}\")"
      ],
      "execution_count": 0,
      "outputs": []
    },
    {
      "cell_type": "markdown",
      "metadata": {
        "id": "nUbHyL3KosVZ",
        "colab_type": "text"
      },
      "source": [
        "## Atack"
      ]
    },
    {
      "cell_type": "code",
      "metadata": {
        "id": "4KLvNZ2SoAgt",
        "colab_type": "code",
        "colab": {
          "base_uri": "https://localhost:8080/",
          "height": 204
        },
        "outputId": "4f74b462-f790-4b03-f6f9-cb38e9c35c97"
      },
      "source": [
        "for epsilon in np.linspace(0., 0.5, 11):\n",
        "    adversarial_test(model, device, test_loader, epsilon)"
      ],
      "execution_count": 165,
      "outputs": [
        {
          "output_type": "stream",
          "text": [
            "Epsilon: 0.00 |Accuracy: 0.985\n",
            "Epsilon: 0.05 |Accuracy: 0.971\n",
            "Epsilon: 0.10 |Accuracy: 0.950\n",
            "Epsilon: 0.15 |Accuracy: 0.910\n",
            "Epsilon: 0.20 |Accuracy: 0.844\n",
            "Epsilon: 0.25 |Accuracy: 0.747\n",
            "Epsilon: 0.30 |Accuracy: 0.607\n",
            "Epsilon: 0.35 |Accuracy: 0.434\n",
            "Epsilon: 0.40 |Accuracy: 0.275\n",
            "Epsilon: 0.45 |Accuracy: 0.145\n",
            "Epsilon: 0.50 |Accuracy: 0.071\n"
          ],
          "name": "stdout"
        }
      ]
    },
    {
      "cell_type": "code",
      "metadata": {
        "id": "5KUkedmavYlU",
        "colab_type": "code",
        "colab": {}
      },
      "source": [
        ""
      ],
      "execution_count": 0,
      "outputs": []
    }
  ]
}